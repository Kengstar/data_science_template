{
 "metadata": {
  "language_info": {
   "codemirror_mode": {
    "name": "ipython",
    "version": 3
   },
   "file_extension": ".py",
   "mimetype": "text/x-python",
   "name": "python",
   "nbconvert_exporter": "python",
   "pygments_lexer": "ipython3",
   "version": "3.7.4-final"
  },
  "orig_nbformat": 2,
  "kernelspec": {
   "name": "python3",
   "display_name": "Python 3"
  }
 },
 "nbformat": 4,
 "nbformat_minor": 2,
 "cells": [
  {
   "cell_type": "code",
   "execution_count": 2,
   "metadata": {
    "tags": []
   },
   "outputs": [
    {
     "output_type": "stream",
     "name": "stdout",
     "text": "5\nRow(value='# Data Science Template')\n0\n+---------------------------------------------------------------------------------+\n|Survived,Pclass,Name,Sex,Age,Siblings/Spouses Aboard,Parents/Children Aboard,Fare|\n+---------------------------------------------------------------------------------+\n|                                                             0,3,Mr. Owen Harr...|\n|                                                             1,1,Mrs. John Bra...|\n|                                                             1,3,Miss. Laina H...|\n|                                                             1,1,Mrs. Jacques ...|\n|                                                             0,3,Mr. William H...|\n+---------------------------------------------------------------------------------+\nonly showing top 5 rows\n\n"
    }
   ],
   "source": [
    "import os\n",
    "\n",
    "import findspark\n",
    "findspark.init()\n",
    "\n",
    "from pyspark.sql.functions import *\n",
    "from pyspark.sql import SparkSession\n",
    "spark = SparkSession.builder.appName(\"sparkTut\").getOrCreate()\n",
    "\n",
    "path = \"../README.md\"\n",
    "\n",
    "text_file = spark.read.text(path)\n",
    "\n",
    "print(text_file.count())\n",
    "print(text_file.first())\n",
    "print(text_file.filter(text_file.value.contains(\"Spark\")).count())\n",
    "df = spark.read.load(\"../titanic.csv\", format=\"csv\", sep=\":\",\n",
    "                     inferSchema=\"true\", header=\"true\")\n",
    "\n",
    "df.show(5)\n",
    "\n"
   ]
  },
  {
   "cell_type": "code",
   "execution_count": null,
   "metadata": {},
   "outputs": [],
   "source": []
  }
 ]
}