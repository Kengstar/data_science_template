{
 "cells": [
  {
   "cell_type": "markdown",
   "metadata": {
    "collapsed": true
   },
   "source": [
    "# Candy Power Ranking\n",
    "This is my submission for the take home challenge regarding my application as Junior Data Scientist Advanced Analytics.\n",
    "The goal is to give a recommendation for a new candy brand. \n",
    "Specifially finding relevant features which have a positive influence on customers perception about a certain candy product.\n",
    "For this the \"Ultimate Halloween Candy Power Ranking\" dataset is used.\n",
    "It contains various brands and their respective features, while giving an intuition about their popularity recorded by matchups."
   ]
  },
  {
   "cell_type": "markdown",
   "metadata": {},
   "source": [
    "First we have to import all basic packages for data analysis. \n",
    "More specified frameworks will probably be imported later when needed."
   ]
  },
  {
   "cell_type": "code",
   "execution_count": 33,
   "metadata": {},
   "outputs": [],
   "source": [
    "import os\n",
    "import pandas as pd\n",
    "import numpy as np\n",
    "import matplotlib.pyplot as plt\n",
    "import seaborn as sns\n",
    "%matplotlib inline\n",
    "pd.set_option('mode.chained_assignment', None)"
   ]
  },
  {
   "cell_type": "markdown",
   "metadata": {},
   "source": [
    "read data, given in variable path_data."
   ]
  },
  {
   "cell_type": "code",
   "execution_count": 34,
   "metadata": {},
   "outputs": [],
   "source": [
    "path_data = \"data/candy-data.csv\"\n",
    "data = pd.read_csv(path_data)   "
   ]
  },
  {
   "cell_type": "code",
   "execution_count": 35,
   "metadata": {},
   "outputs": [
    {
     "name": "stdout",
     "output_type": "stream",
     "text": [
      "(85, 13)\n  competitorname  chocolate  fruity  caramel  peanutyalmondy  nougat  \\\n0      100 Grand          1       0        1               0       0   \n1   3 Musketeers          1       0        0               0       1   \n2       One dime          0       0        0               0       0   \n3    One quarter          0       0        0               0       0   \n4      Air Heads          0       1        0               0       0   \n\n   crispedricewafer  hard  bar  pluribus  sugarpercent  pricepercent  \\\n0                 1     0    1         0         0.732         0.860   \n1                 0     0    1         0         0.604         0.511   \n2                 0     0    0         0         0.011         0.116   \n3                 0     0    0         0         0.011         0.511   \n4                 0     0    0         0         0.906         0.511   \n\n   winpercent  \n0   66.971725  \n1   67.602936  \n2   32.261086  \n3   46.116505  \n4   52.341465  \n"
     ]
    },
    {
     "data": {
      "text/plain": [
       "competitorname       object\nchocolate             int64\nfruity                int64\ncaramel               int64\npeanutyalmondy        int64\nnougat                int64\ncrispedricewafer      int64\nhard                  int64\nbar                   int64\npluribus              int64\nsugarpercent        float64\npricepercent        float64\nwinpercent          float64\ndtype: object"
      ]
     },
     "execution_count": 35,
     "metadata": {},
     "output_type": "execute_result"
    }
   ],
   "source": [
    "print data.shape\n",
    "print data.head()\n",
    "data.dtypes"
   ]
  },
  {
   "cell_type": "markdown",
   "metadata": {},
   "source": [
    "Rows contain candy brands (85), while columns denote features (0:-1).  \n",
    "Categorical features (int) are binary according to documentation while sugar and price is given in percentile (float).  \n",
    "Last column shows the win percentage (target variable?) of the corresponding candy brand based on around ~269.000 matchups.  \n",
    "PROBLEM!: not clear how often one brand was picked for a matchup"
   ]
  },
  {
   "cell_type": "code",
   "execution_count": 36,
   "metadata": {},
   "outputs": [
    {
     "name": "stdout",
     "output_type": "stream",
     "text": [
      "<class 'pandas.core.frame.DataFrame'>\nRangeIndex: 85 entries, 0 to 84\nData columns (total 13 columns):\ncompetitorname      85 non-null object\nchocolate           85 non-null int64\nfruity              85 non-null int64\ncaramel             85 non-null int64\npeanutyalmondy      85 non-null int64\nnougat              85 non-null int64\ncrispedricewafer    85 non-null int64\nhard                85 non-null int64\nbar                 85 non-null int64\npluribus            85 non-null int64\nsugarpercent        85 non-null float64\npricepercent        85 non-null float64\nwinpercent          85 non-null float64\ndtypes: float64(3), int64(9), object(1)\nmemory usage: 8.7+ KB\n[1 0]\n[0 1]\n[1 0]\n[0 1]\n[0 1]\n[1 0]\n[0 1]\n[1 0]\n[0 1]\n"
     ]
    }
   ],
   "source": [
    "data.info()\n",
    "##check if categorical variables are truly binary\n",
    "for col in data.columns[1:-3]:\n",
    "    print pd.unique(data[col])\n",
    "\n",
    "##check    \n",
    "for col in data.columns[-3:-1]:\n",
    "    if any(data[col] < 0) or any(data[col] > 1):\n",
    "        print col + \"contains illegal values\"\n",
    "\n",
    "for col in data.columns[-1:]:\n",
    "    if any(data[col] < 0) or any(data[col] > 100):\n",
    "        print col + \"contains illegal values\""
   ]
  },
  {
   "cell_type": "markdown",
   "metadata": {},
   "source": [
    "Inspection of data.   \n",
    "no outlier/errors in dataset.   \n",
    "No missing/null values. \n",
    "-> clean data."
   ]
  },
  {
   "cell_type": "code",
   "execution_count": 37,
   "metadata": {},
   "outputs": [
    {
     "data": {
      "text/html": [
       "<div>\n",
       "<style scoped>\n",
       "    .dataframe tbody tr th:only-of-type {\n",
       "        vertical-align: middle;\n",
       "    }\n",
       "\n",
       "    .dataframe tbody tr th {\n",
       "        vertical-align: top;\n",
       "    }\n",
       "\n",
       "    .dataframe thead th {\n",
       "        text-align: right;\n",
       "    }\n",
       "</style>\n",
       "<table border=\"1\" class=\"dataframe\">\n",
       "  <thead>\n",
       "    <tr style=\"text-align: right;\">\n",
       "      <th></th>\n",
       "      <th>chocolate</th>\n",
       "      <th>fruity</th>\n",
       "      <th>caramel</th>\n",
       "      <th>peanutyalmondy</th>\n",
       "      <th>nougat</th>\n",
       "      <th>crispedricewafer</th>\n",
       "      <th>hard</th>\n",
       "      <th>bar</th>\n",
       "      <th>pluribus</th>\n",
       "      <th>sugarpercent</th>\n",
       "      <th>pricepercent</th>\n",
       "      <th>winpercent</th>\n",
       "    </tr>\n",
       "  </thead>\n",
       "  <tbody>\n",
       "    <tr>\n",
       "      <th>count</th>\n",
       "      <td>85.000000</td>\n",
       "      <td>85.000000</td>\n",
       "      <td>85.000000</td>\n",
       "      <td>85.000000</td>\n",
       "      <td>85.000000</td>\n",
       "      <td>85.000000</td>\n",
       "      <td>85.000000</td>\n",
       "      <td>85.000000</td>\n",
       "      <td>85.000000</td>\n",
       "      <td>85.000000</td>\n",
       "      <td>85.000000</td>\n",
       "      <td>85.000000</td>\n",
       "    </tr>\n",
       "    <tr>\n",
       "      <th>mean</th>\n",
       "      <td>0.435294</td>\n",
       "      <td>0.447059</td>\n",
       "      <td>0.164706</td>\n",
       "      <td>0.164706</td>\n",
       "      <td>0.082353</td>\n",
       "      <td>0.082353</td>\n",
       "      <td>0.176471</td>\n",
       "      <td>0.247059</td>\n",
       "      <td>0.517647</td>\n",
       "      <td>0.478647</td>\n",
       "      <td>0.468882</td>\n",
       "      <td>50.316764</td>\n",
       "    </tr>\n",
       "    <tr>\n",
       "      <th>std</th>\n",
       "      <td>0.498738</td>\n",
       "      <td>0.500140</td>\n",
       "      <td>0.373116</td>\n",
       "      <td>0.373116</td>\n",
       "      <td>0.276533</td>\n",
       "      <td>0.276533</td>\n",
       "      <td>0.383482</td>\n",
       "      <td>0.433861</td>\n",
       "      <td>0.502654</td>\n",
       "      <td>0.282778</td>\n",
       "      <td>0.285740</td>\n",
       "      <td>14.714357</td>\n",
       "    </tr>\n",
       "    <tr>\n",
       "      <th>min</th>\n",
       "      <td>0.000000</td>\n",
       "      <td>0.000000</td>\n",
       "      <td>0.000000</td>\n",
       "      <td>0.000000</td>\n",
       "      <td>0.000000</td>\n",
       "      <td>0.000000</td>\n",
       "      <td>0.000000</td>\n",
       "      <td>0.000000</td>\n",
       "      <td>0.000000</td>\n",
       "      <td>0.011000</td>\n",
       "      <td>0.011000</td>\n",
       "      <td>22.445341</td>\n",
       "    </tr>\n",
       "    <tr>\n",
       "      <th>25%</th>\n",
       "      <td>0.000000</td>\n",
       "      <td>0.000000</td>\n",
       "      <td>0.000000</td>\n",
       "      <td>0.000000</td>\n",
       "      <td>0.000000</td>\n",
       "      <td>0.000000</td>\n",
       "      <td>0.000000</td>\n",
       "      <td>0.000000</td>\n",
       "      <td>0.000000</td>\n",
       "      <td>0.220000</td>\n",
       "      <td>0.255000</td>\n",
       "      <td>39.141056</td>\n",
       "    </tr>\n",
       "    <tr>\n",
       "      <th>50%</th>\n",
       "      <td>0.000000</td>\n",
       "      <td>0.000000</td>\n",
       "      <td>0.000000</td>\n",
       "      <td>0.000000</td>\n",
       "      <td>0.000000</td>\n",
       "      <td>0.000000</td>\n",
       "      <td>0.000000</td>\n",
       "      <td>0.000000</td>\n",
       "      <td>1.000000</td>\n",
       "      <td>0.465000</td>\n",
       "      <td>0.465000</td>\n",
       "      <td>47.829754</td>\n",
       "    </tr>\n",
       "    <tr>\n",
       "      <th>75%</th>\n",
       "      <td>1.000000</td>\n",
       "      <td>1.000000</td>\n",
       "      <td>0.000000</td>\n",
       "      <td>0.000000</td>\n",
       "      <td>0.000000</td>\n",
       "      <td>0.000000</td>\n",
       "      <td>0.000000</td>\n",
       "      <td>0.000000</td>\n",
       "      <td>1.000000</td>\n",
       "      <td>0.732000</td>\n",
       "      <td>0.651000</td>\n",
       "      <td>59.863998</td>\n",
       "    </tr>\n",
       "    <tr>\n",
       "      <th>max</th>\n",
       "      <td>1.000000</td>\n",
       "      <td>1.000000</td>\n",
       "      <td>1.000000</td>\n",
       "      <td>1.000000</td>\n",
       "      <td>1.000000</td>\n",
       "      <td>1.000000</td>\n",
       "      <td>1.000000</td>\n",
       "      <td>1.000000</td>\n",
       "      <td>1.000000</td>\n",
       "      <td>0.988000</td>\n",
       "      <td>0.976000</td>\n",
       "      <td>84.180290</td>\n",
       "    </tr>\n",
       "  </tbody>\n",
       "</table>\n",
       "</div>"
      ],
      "text/plain": [
       "<div>\n",
       "<style scoped>\n",
       "    .dataframe tbody tr th:only-of-type {\n",
       "        vertical-align: middle;\n",
       "    }\n",
       "\n",
       "    .dataframe tbody tr th {\n",
       "        vertical-align: top;\n",
       "    }\n",
       "\n",
       "    .dataframe thead th {\n",
       "        text-align: right;\n",
       "    }\n",
       "</style>\n",
       "<table border=\"1\" class=\"dataframe\">\n",
       "  <thead>\n",
       "    <tr style=\"text-align: right;\">\n",
       "      <th></th>\n",
       "      <th>chocolate</th>\n",
       "      <th>fruity</th>\n",
       "      <th>caramel</th>\n",
       "      <th>peanutyalmondy</th>\n",
       "      <th>nougat</th>\n",
       "      <th>crispedricewafer</th>\n",
       "      <th>hard</th>\n",
       "      <th>bar</th>\n",
       "      <th>pluribus</th>\n",
       "      <th>sugarpercent</th>\n",
       "      <th>pricepercent</th>\n",
       "      <th>winpercent</th>\n",
       "    </tr>\n",
       "  </thead>\n",
       "  <tbody>\n",
       "    <tr>\n",
       "      <th>count</th>\n",
       "      <td>85.000000</td>\n",
       "      <td>85.000000</td>\n",
       "      <td>85.000000</td>\n",
       "      <td>85.000000</td>\n",
       "      <td>85.000000</td>\n",
       "      <td>85.000000</td>\n",
       "      <td>85.000000</td>\n",
       "      <td>85.000000</td>\n",
       "      <td>85.000000</td>\n",
       "      <td>85.000000</td>\n",
       "      <td>85.000000</td>\n",
       "      <td>85.000000</td>\n",
       "    </tr>\n",
       "    <tr>\n",
       "      <th>mean</th>\n",
       "      <td>0.435294</td>\n",
       "      <td>0.447059</td>\n",
       "      <td>0.164706</td>\n",
       "      <td>0.164706</td>\n",
       "      <td>0.082353</td>\n",
       "      <td>0.082353</td>\n",
       "      <td>0.176471</td>\n",
       "      <td>0.247059</td>\n",
       "      <td>0.517647</td>\n",
       "      <td>0.478647</td>\n",
       "      <td>0.468882</td>\n",
       "      <td>50.316764</td>\n",
       "    </tr>\n",
       "    <tr>\n",
       "      <th>std</th>\n",
       "      <td>0.498738</td>\n",
       "      <td>0.500140</td>\n",
       "      <td>0.373116</td>\n",
       "      <td>0.373116</td>\n",
       "      <td>0.276533</td>\n",
       "      <td>0.276533</td>\n",
       "      <td>0.383482</td>\n",
       "      <td>0.433861</td>\n",
       "      <td>0.502654</td>\n",
       "      <td>0.282778</td>\n",
       "      <td>0.285740</td>\n",
       "      <td>14.714357</td>\n",
       "    </tr>\n",
       "    <tr>\n",
       "      <th>min</th>\n",
       "      <td>0.000000</td>\n",
       "      <td>0.000000</td>\n",
       "      <td>0.000000</td>\n",
       "      <td>0.000000</td>\n",
       "      <td>0.000000</td>\n",
       "      <td>0.000000</td>\n",
       "      <td>0.000000</td>\n",
       "      <td>0.000000</td>\n",
       "      <td>0.000000</td>\n",
       "      <td>0.011000</td>\n",
       "      <td>0.011000</td>\n",
       "      <td>22.445341</td>\n",
       "    </tr>\n",
       "    <tr>\n",
       "      <th>25%</th>\n",
       "      <td>0.000000</td>\n",
       "      <td>0.000000</td>\n",
       "      <td>0.000000</td>\n",
       "      <td>0.000000</td>\n",
       "      <td>0.000000</td>\n",
       "      <td>0.000000</td>\n",
       "      <td>0.000000</td>\n",
       "      <td>0.000000</td>\n",
       "      <td>0.000000</td>\n",
       "      <td>0.220000</td>\n",
       "      <td>0.255000</td>\n",
       "      <td>39.141056</td>\n",
       "    </tr>\n",
       "    <tr>\n",
       "      <th>50%</th>\n",
       "      <td>0.000000</td>\n",
       "      <td>0.000000</td>\n",
       "      <td>0.000000</td>\n",
       "      <td>0.000000</td>\n",
       "      <td>0.000000</td>\n",
       "      <td>0.000000</td>\n",
       "      <td>0.000000</td>\n",
       "      <td>0.000000</td>\n",
       "      <td>1.000000</td>\n",
       "      <td>0.465000</td>\n",
       "      <td>0.465000</td>\n",
       "      <td>47.829754</td>\n",
       "    </tr>\n",
       "    <tr>\n",
       "      <th>75%</th>\n",
       "      <td>1.000000</td>\n",
       "      <td>1.000000</td>\n",
       "      <td>0.000000</td>\n",
       "      <td>0.000000</td>\n",
       "      <td>0.000000</td>\n",
       "      <td>0.000000</td>\n",
       "      <td>0.000000</td>\n",
       "      <td>0.000000</td>\n",
       "      <td>1.000000</td>\n",
       "      <td>0.732000</td>\n",
       "      <td>0.651000</td>\n",
       "      <td>59.863998</td>\n",
       "    </tr>\n",
       "    <tr>\n",
       "      <th>max</th>\n",
       "      <td>1.000000</td>\n",
       "      <td>1.000000</td>\n",
       "      <td>1.000000</td>\n",
       "      <td>1.000000</td>\n",
       "      <td>1.000000</td>\n",
       "      <td>1.000000</td>\n",
       "      <td>1.000000</td>\n",
       "      <td>1.000000</td>\n",
       "      <td>1.000000</td>\n",
       "      <td>0.988000</td>\n",
       "      <td>0.976000</td>\n",
       "      <td>84.180290</td>\n",
       "    </tr>\n",
       "  </tbody>\n",
       "</table>\n",
       "</div>"
      ]
     },
     "execution_count": 37,
     "metadata": {},
     "output_type": "execute_result"
    }
   ],
   "source": [
    "data.describe()\n"
   ]
  },
  {
   "cell_type": "code",
   "execution_count": 38,
   "metadata": {},
   "outputs": [
    {
     "data": {
      "text/plain": [
       "0.5176470588235295"
      ]
     },
     "execution_count": 38,
     "metadata": {},
     "output_type": "execute_result"
    }
   ],
   "source": [
    "sum(data[\"pluribus\"]) / 85.0"
   ]
  },
  {
   "cell_type": "markdown",
   "metadata": {},
   "source": [
    "More than half of the different candy brands were given out in some kind of box (check 50% quantile of pluribus) though the difference is small (51.76% given in a box).  \n",
    "The majority of the samples fall below the lower percentile regarding the other features meaning that there wasn't a feature which occured too often.  \n",
    "Next we will investigage the characteristics of this dataset with some visualisations."
   ]
  },
  {
   "cell_type": "code",
   "execution_count": 39,
   "metadata": {
    "collapsed": false
   },
   "outputs": [
    {
     "name": "stdout",
     "output_type": "stream",
     "text": [
      "Feature chocolate: 60.92 (1) and 42.14 (0)\nFeature fruity: 44.12 (1) and 55.33 (0)\nFeature caramel: 57.35 (1) and 48.93 (0)\nFeature peanutyalmondy: 63.70 (1) and 47.68 (0)\nFeature nougat: 60.05 (1) and 49.44 (0)\nFeature crispedricewafer: 66.17 (1) and 48.89 (0)\nFeature hard: 40.51 (1) and 52.42 (0)\nFeature bar: 61.30 (1) and 46.71 (0)\nFeature pluribus: 46.82 (1) and 54.07 (0)\n"
     ]
    },
    {
     "data": {
      "image/png": "[encoded data removed]",
      "text/plain": [
       "<Figure size 432x288 with 1 Axes>"
      ]
     },
     "metadata": {},
     "output_type": "display_data"
    }
   ],
   "source": [
    "win_yes = []\n",
    "win_no = []\n",
    "for col in data.columns[1:-3]:\n",
    "    feature_yes = data[data[col] == 1]\n",
    "    feature_no = data[data[col] == 0]\n",
    "    win_feature = np.mean(feature_yes[\"winpercent\"]) \n",
    "    win_feature_no = np.mean(feature_no[\"winpercent\"])\n",
    "    win_yes.append(win_feature)\n",
    "    win_no.append(win_feature_no)\n",
    "    print \"Feature {}: {:.2f} (1) and {:.2f} (0)\".format(col, win_feature, win_feature_no)\n",
    "\n",
    "## do for 9 binary features\n",
    "\n",
    "\n",
    "x = np.arange(len(data.columns[1:-3]))  # the label locations\n",
    "width = 0.35  # the width of the bars\n",
    "\n",
    "fig, ax = plt.subplots()\n",
    "ax.bar(x - width/2, win_yes, width, label='+')\n",
    "ax.bar(x + width/2, win_no, width, label='-')\n",
    "\n",
    "\n",
    "ax.set_ylabel('Mean win percentage')\n",
    "ax.set_title('Mean win percentage with or without certain feature')\n",
    "ax.set_xticks(x)\n",
    "\n",
    "#ax.set_xticklabels(x+1)\n",
    "ax.set_xticklabels(['chocolate', 'fruity', 'caramel',\n",
    "       'peanut', 'nougat', 'ricewafer', 'hard', 'bar',\n",
    "       'pluribus'])\n",
    "ax.legend()\n",
    "\n",
    "\n",
    "plt.show()"
   ]
  },
  {
   "cell_type": "markdown",
   "metadata": {},
   "source": [
    "##First naive analysis\n",
    "For this approach we compared the mean win percentages for candies where a specific feature was true and where it doesn't apply.  \n",
    "Upon first look candies containing chocolate, some kind of nut, ricewafer or served in some kind of bar form seem to have a higher positive probability on being picked.   \n",
    "While features like fruity, hard or being in a box appear to have a negative influence on the win percentage.  \n",
    "Please note that this simple approach should only serve as an intuition, as no latent information between features is modeled.\n"
   ]
  },
  {
   "cell_type": "code",
   "execution_count": 40,
   "metadata": {},
   "outputs": [
    {
     "data": {
      "image/png": "[encoded data removed]",
      "text/plain": [
       "<Figure size 432x288 with 1 Axes>"
      ]
     },
     "metadata": {},
     "output_type": "display_data"
    }
   ],
   "source": [
    "plt.hist(data[\"winpercent\"])\n",
    "plt.show()"
   ]
  },
  {
   "cell_type": "code",
   "execution_count": 41,
   "metadata": {},
   "outputs": [
    {
     "data": {
      "image/png": "[encoded data removed]",
      "text/plain": [
       "<Figure size 432x288 with 1 Axes>"
      ]
     },
     "metadata": {},
     "output_type": "display_data"
    }
   ],
   "source": [
    "plt.hist(np.log(data[\"winpercent\"]))\n",
    "plt.show()"
   ]
  },
  {
   "cell_type": "code",
   "execution_count": 42,
   "metadata": {},
   "outputs": [
    {
     "data": {
      "image/png": "[encoded data removed]",
      "text/plain": [
       "<Figure size 432x288 with 1 Axes>"
      ]
     },
     "metadata": {},
     "output_type": "display_data"
    }
   ],
   "source": [
    "plt.hist(np.sqrt(data[\"winpercent\"]))\n",
    "plt.show()"
   ]
  },
  {
   "cell_type": "markdown",
   "metadata": {},
   "source": [
    "##Key Driver Analysis (KDA)\n",
    "Task is a classic case of Key Driver Analysis (KDA).  \n",
    "Output (winpercent) is continous, as such we use a regression approach.  \n",
    "Assumption of normal distribution for output variable is partly correct.  "
   ]
  },
  {
   "cell_type": "code",
   "execution_count": 43,
   "metadata": {},
   "outputs": [
    {
     "name": "stdout",
     "output_type": "stream",
     "text": [
      "                  chocolate    fruity   caramel  peanutyalmondy    nougat  \\\nchocolate          1.000000 -0.741721  0.249875        0.377824  0.254892   \nfruity            -0.741721  1.000000 -0.335485       -0.399280 -0.269367   \ncaramel            0.249875 -0.335485  1.000000        0.059356  0.328493   \npeanutyalmondy     0.377824 -0.399280  0.059356        1.000000  0.213113   \nnougat             0.254892 -0.269367  0.328493        0.213113  1.000000   \ncrispedricewafer   0.341210 -0.269367  0.213113       -0.017646 -0.089744   \nhard              -0.344177  0.390678 -0.122355       -0.205557 -0.138675   \nbar                0.597421 -0.515066  0.333960        0.260420  0.522976   \npluribus          -0.339675  0.299725 -0.269585       -0.206109 -0.310339   \nsugarpercent       0.104169 -0.034393  0.221933        0.087889  0.123081   \npricepercent       0.504675 -0.430969  0.254327        0.309153  0.153196   \n\n                  crispedricewafer      hard       bar  pluribus  \\\nchocolate                 0.341210 -0.344177  0.597421 -0.339675   \nfruity                   -0.269367  0.390678 -0.515066  0.299725   \ncaramel                   0.213113 -0.122355  0.333960 -0.269585   \npeanutyalmondy           -0.017646 -0.205557  0.260420 -0.206109   \nnougat                   -0.089744 -0.138675  0.522976 -0.310339   \ncrispedricewafer          1.000000 -0.138675  0.423751 -0.224693   \nhard                     -0.138675  1.000000 -0.265165  0.014532   \nbar                       0.423751 -0.265165  1.000000 -0.593409   \npluribus                 -0.224693  0.014532 -0.593409  1.000000   \nsugarpercent              0.069950  0.091810  0.099985  0.045523   \npricepercent              0.328265 -0.244365  0.518407 -0.220794   \n\n                  sugarpercent  pricepercent  \nchocolate             0.104169      0.504675  \nfruity               -0.034393     -0.430969  \ncaramel               0.221933      0.254327  \npeanutyalmondy        0.087889      0.309153  \nnougat                0.123081      0.153196  \ncrispedricewafer      0.069950      0.328265  \nhard                  0.091810     -0.244365  \nbar                   0.099985      0.518407  \npluribus              0.045523     -0.220794  \nsugarpercent          1.000000      0.329706  \npricepercent          0.329706      1.000000  \n"
     ]
    },
    {
     "data": {
      "image/png": "[encoded data removed]",
      "text/plain": [
       "<Figure size 432x288 with 2 Axes>"
      ]
     },
     "metadata": {},
     "output_type": "display_data"
    }
   ],
   "source": [
    "features = data.columns[1:-1]\n",
    "x = data[features]\n",
    "y = data[\"winpercent\"]\n",
    "corr = x.corr()\n",
    "print corr\n",
    "sns.heatmap(corr,\n",
    "            xticklabels=corr.columns.values)\n",
    "plt.show()\n",
    "#plot correlations"
   ]
  },
  {
   "cell_type": "markdown",
   "metadata": {},
   "source": [
    "Some mild correlation can be observed between features.  \n",
    "Especially chocolate and fruity are strongly negativeley correlated.   \n",
    "Keep in mind for further evalation."
   ]
  },
  {
   "cell_type": "code",
   "execution_count": 44,
   "metadata": {
    "collapsed": true
   },
   "outputs": [
    {
     "data": {
      "text/html": [
       "<table class=\"simpletable\">\n",
       "<caption>OLS Regression Results</caption>\n",
       "<tr>\n",
       "  <th>Dep. Variable:</th>       <td>winpercent</td>    <th>  R-squared:         </th> <td>   0.540</td>\n",
       "</tr>\n",
       "<tr>\n",
       "  <th>Model:</th>                   <td>OLS</td>       <th>  Adj. R-squared:    </th> <td>   0.471</td>\n",
       "</tr>\n",
       "<tr>\n",
       "  <th>Method:</th>             <td>Least Squares</td>  <th>  F-statistic:       </th> <td>   7.797</td>\n",
       "</tr>\n",
       "<tr>\n",
       "  <th>Date:</th>             <td>Sun, 25 Aug 2019</td> <th>  Prob (F-statistic):</th> <td>9.50e-09</td>\n",
       "</tr>\n",
       "<tr>\n",
       "  <th>Time:</th>                 <td>10:36:16</td>     <th>  Log-Likelihood:    </th> <td> -315.64</td>\n",
       "</tr>\n",
       "<tr>\n",
       "  <th>No. Observations:</th>      <td>    85</td>      <th>  AIC:               </th> <td>   655.3</td>\n",
       "</tr>\n",
       "<tr>\n",
       "  <th>Df Residuals:</th>          <td>    73</td>      <th>  BIC:               </th> <td>   684.6</td>\n",
       "</tr>\n",
       "<tr>\n",
       "  <th>Df Model:</th>              <td>    11</td>      <th>                     </th>     <td> </td>   \n",
       "</tr>\n",
       "<tr>\n",
       "  <th>Covariance Type:</th>      <td>nonrobust</td>    <th>                     </th>     <td> </td>   \n",
       "</tr>\n",
       "</table>\n",
       "<table class=\"simpletable\">\n",
       "<tr>\n",
       "          <td></td>            <th>coef</th>     <th>std err</th>      <th>t</th>      <th>P>|t|</th>  <th>[0.025</th>    <th>0.975]</th>  \n",
       "</tr>\n",
       "<tr>\n",
       "  <th>chocolate</th>        <td>   19.7481</td> <td>    3.899</td> <td>    5.065</td> <td> 0.000</td> <td>   11.978</td> <td>   27.518</td>\n",
       "</tr>\n",
       "<tr>\n",
       "  <th>fruity</th>           <td>    9.4223</td> <td>    3.763</td> <td>    2.504</td> <td> 0.015</td> <td>    1.923</td> <td>   16.922</td>\n",
       "</tr>\n",
       "<tr>\n",
       "  <th>caramel</th>          <td>    2.2245</td> <td>    3.657</td> <td>    0.608</td> <td> 0.545</td> <td>   -5.065</td> <td>    9.514</td>\n",
       "</tr>\n",
       "<tr>\n",
       "  <th>peanutyalmondy</th>   <td>   10.0707</td> <td>    3.616</td> <td>    2.785</td> <td> 0.007</td> <td>    2.864</td> <td>   17.277</td>\n",
       "</tr>\n",
       "<tr>\n",
       "  <th>nougat</th>           <td>    0.8043</td> <td>    5.716</td> <td>    0.141</td> <td> 0.888</td> <td>  -10.588</td> <td>   12.197</td>\n",
       "</tr>\n",
       "<tr>\n",
       "  <th>crispedricewafer</th> <td>    8.9190</td> <td>    5.268</td> <td>    1.693</td> <td> 0.095</td> <td>   -1.580</td> <td>   19.418</td>\n",
       "</tr>\n",
       "<tr>\n",
       "  <th>hard</th>             <td>   -6.1653</td> <td>    3.455</td> <td>   -1.784</td> <td> 0.079</td> <td>  -13.051</td> <td>    0.721</td>\n",
       "</tr>\n",
       "<tr>\n",
       "  <th>bar</th>              <td>    0.4415</td> <td>    5.061</td> <td>    0.087</td> <td> 0.931</td> <td>   -9.645</td> <td>   10.528</td>\n",
       "</tr>\n",
       "<tr>\n",
       "  <th>pluribus</th>         <td>   -0.8545</td> <td>    3.040</td> <td>   -0.281</td> <td> 0.779</td> <td>   -6.913</td> <td>    5.204</td>\n",
       "</tr>\n",
       "<tr>\n",
       "  <th>sugarpercent</th>     <td>    9.0868</td> <td>    4.659</td> <td>    1.950</td> <td> 0.055</td> <td>   -0.200</td> <td>   18.373</td>\n",
       "</tr>\n",
       "<tr>\n",
       "  <th>pricepercent</th>     <td>   -5.9284</td> <td>    5.513</td> <td>   -1.075</td> <td> 0.286</td> <td>  -16.916</td> <td>    5.060</td>\n",
       "</tr>\n",
       "<tr>\n",
       "  <th>bias</th>             <td>   34.5340</td> <td>    4.320</td> <td>    7.994</td> <td> 0.000</td> <td>   25.924</td> <td>   43.144</td>\n",
       "</tr>\n",
       "</table>\n",
       "<table class=\"simpletable\">\n",
       "<tr>\n",
       "  <th>Omnibus:</th>       <td> 1.025</td> <th>  Durbin-Watson:     </th> <td>   1.728</td>\n",
       "</tr>\n",
       "<tr>\n",
       "  <th>Prob(Omnibus):</th> <td> 0.599</td> <th>  Jarque-Bera (JB):  </th> <td>   1.000</td>\n",
       "</tr>\n",
       "<tr>\n",
       "  <th>Skew:</th>          <td>-0.104</td> <th>  Prob(JB):          </th> <td>   0.606</td>\n",
       "</tr>\n",
       "<tr>\n",
       "  <th>Kurtosis:</th>      <td> 2.511</td> <th>  Cond. No.          </th> <td>    10.0</td>\n",
       "</tr>\n",
       "</table><br/><br/>Warnings:<br/>[1] Standard Errors assume that the covariance matrix of the errors is correctly specified."
      ],
      "text/plain": [
       "<table class=\"simpletable\">\n",
       "<caption>OLS Regression Results</caption>\n",
       "<tr>\n",
       "  <th>Dep. Variable:</th>       <td>winpercent</td>    <th>  R-squared:         </th> <td>   0.540</td>\n",
       "</tr>\n",
       "<tr>\n",
       "  <th>Model:</th>                   <td>OLS</td>       <th>  Adj. R-squared:    </th> <td>   0.471</td>\n",
       "</tr>\n",
       "<tr>\n",
       "  <th>Method:</th>             <td>Least Squares</td>  <th>  F-statistic:       </th> <td>   7.797</td>\n",
       "</tr>\n",
       "<tr>\n",
       "  <th>Date:</th>             <td>Sun, 25 Aug 2019</td> <th>  Prob (F-statistic):</th> <td>9.50e-09</td>\n",
       "</tr>\n",
       "<tr>\n",
       "  <th>Time:</th>                 <td>10:36:16</td>     <th>  Log-Likelihood:    </th> <td> -315.64</td>\n",
       "</tr>\n",
       "<tr>\n",
       "  <th>No. Observations:</th>      <td>    85</td>      <th>  AIC:               </th> <td>   655.3</td>\n",
       "</tr>\n",
       "<tr>\n",
       "  <th>Df Residuals:</th>          <td>    73</td>      <th>  BIC:               </th> <td>   684.6</td>\n",
       "</tr>\n",
       "<tr>\n",
       "  <th>Df Model:</th>              <td>    11</td>      <th>                     </th>     <td> </td>   \n",
       "</tr>\n",
       "<tr>\n",
       "  <th>Covariance Type:</th>      <td>nonrobust</td>    <th>                     </th>     <td> </td>   \n",
       "</tr>\n",
       "</table>\n",
       "<table class=\"simpletable\">\n",
       "<tr>\n",
       "          <td></td>            <th>coef</th>     <th>std err</th>      <th>t</th>      <th>P>|t|</th>  <th>[0.025</th>    <th>0.975]</th>  \n",
       "</tr>\n",
       "<tr>\n",
       "  <th>chocolate</th>        <td>   19.7481</td> <td>    3.899</td> <td>    5.065</td> <td> 0.000</td> <td>   11.978</td> <td>   27.518</td>\n",
       "</tr>\n",
       "<tr>\n",
       "  <th>fruity</th>           <td>    9.4223</td> <td>    3.763</td> <td>    2.504</td> <td> 0.015</td> <td>    1.923</td> <td>   16.922</td>\n",
       "</tr>\n",
       "<tr>\n",
       "  <th>caramel</th>          <td>    2.2245</td> <td>    3.657</td> <td>    0.608</td> <td> 0.545</td> <td>   -5.065</td> <td>    9.514</td>\n",
       "</tr>\n",
       "<tr>\n",
       "  <th>peanutyalmondy</th>   <td>   10.0707</td> <td>    3.616</td> <td>    2.785</td> <td> 0.007</td> <td>    2.864</td> <td>   17.277</td>\n",
       "</tr>\n",
       "<tr>\n",
       "  <th>nougat</th>           <td>    0.8043</td> <td>    5.716</td> <td>    0.141</td> <td> 0.888</td> <td>  -10.588</td> <td>   12.197</td>\n",
       "</tr>\n",
       "<tr>\n",
       "  <th>crispedricewafer</th> <td>    8.9190</td> <td>    5.268</td> <td>    1.693</td> <td> 0.095</td> <td>   -1.580</td> <td>   19.418</td>\n",
       "</tr>\n",
       "<tr>\n",
       "  <th>hard</th>             <td>   -6.1653</td> <td>    3.455</td> <td>   -1.784</td> <td> 0.079</td> <td>  -13.051</td> <td>    0.721</td>\n",
       "</tr>\n",
       "<tr>\n",
       "  <th>bar</th>              <td>    0.4415</td> <td>    5.061</td> <td>    0.087</td> <td> 0.931</td> <td>   -9.645</td> <td>   10.528</td>\n",
       "</tr>\n",
       "<tr>\n",
       "  <th>pluribus</th>         <td>   -0.8545</td> <td>    3.040</td> <td>   -0.281</td> <td> 0.779</td> <td>   -6.913</td> <td>    5.204</td>\n",
       "</tr>\n",
       "<tr>\n",
       "  <th>sugarpercent</th>     <td>    9.0868</td> <td>    4.659</td> <td>    1.950</td> <td> 0.055</td> <td>   -0.200</td> <td>   18.373</td>\n",
       "</tr>\n",
       "<tr>\n",
       "  <th>pricepercent</th>     <td>   -5.9284</td> <td>    5.513</td> <td>   -1.075</td> <td> 0.286</td> <td>  -16.916</td> <td>    5.060</td>\n",
       "</tr>\n",
       "<tr>\n",
       "  <th>bias</th>             <td>   34.5340</td> <td>    4.320</td> <td>    7.994</td> <td> 0.000</td> <td>   25.924</td> <td>   43.144</td>\n",
       "</tr>\n",
       "</table>\n",
       "<table class=\"simpletable\">\n",
       "<tr>\n",
       "  <th>Omnibus:</th>       <td> 1.025</td> <th>  Durbin-Watson:     </th> <td>   1.728</td>\n",
       "</tr>\n",
       "<tr>\n",
       "  <th>Prob(Omnibus):</th> <td> 0.599</td> <th>  Jarque-Bera (JB):  </th> <td>   1.000</td>\n",
       "</tr>\n",
       "<tr>\n",
       "  <th>Skew:</th>          <td>-0.104</td> <th>  Prob(JB):          </th> <td>   0.606</td>\n",
       "</tr>\n",
       "<tr>\n",
       "  <th>Kurtosis:</th>      <td> 2.511</td> <th>  Cond. No.          </th> <td>    10.0</td>\n",
       "</tr>\n",
       "</table><br/><br/>Warnings:<br/>[1] Standard Errors assume that the covariance matrix of the errors is correctly specified."
      ]
     },
     "execution_count": 44,
     "metadata": {},
     "output_type": "execute_result"
    }
   ],
   "source": [
    "import statsmodels.api as sm\n",
    "###statsmodell regression model doesn't use a bias term in its default configuration\n",
    "# we use a simple linear regression model, weights tell us about importance of features.\n",
    "#x = (x-x.mean())/x.std()\n",
    "x.loc[:, \"bias\"] = 1.0\n",
    "model = sm.OLS(y, x)\n",
    "model = model.fit()\n",
    "\n",
    "\n",
    "model.summary()\n",
    "\n"
   ]
  },
  {
   "cell_type": "markdown",
   "metadata": {},
   "source": [
    "Initial Findings:  \n",
    "In the following we look at the statistically significant features where P > |t| with alpha = 0.05.  \n",
    "These are chocolate, fruity, peanutalmondy.  \n",
    "As these are binary, the presence of these feature means that the win percentage rises (~19 %, ~9%, ~10%) respectively.  \n",
    "Key Driver currently are chocolate and peanutalmondy.\n",
    "\n",
    "\n",
    "For some reason fruity has a high positive weight, meaning a positive correlation with our target variable according to our model.   \n",
    "In contrast the plots done earlier implied a negative relation as the win percentage was worse in candies with a fruity taste.  \n",
    "\n",
    "The correlation analysis showed strong correlation between fruity and chocolate -> possible Multi Colinearity? "
   ]
  },
  {
   "cell_type": "code",
   "execution_count": 45,
   "metadata": {
    "collapsed": false
   },
   "outputs": [
    {
     "name": "stdout",
     "output_type": "stream",
     "text": [
      "    VIF Factor          features\n0     2.772487         chocolate\n1     2.597341            fruity\n2     1.365539           caramel\n3     1.334713    peanutyalmondy\n4     1.832413            nougat\n5     1.556129  crispedricewafer\n6     1.287368              hard\n7     3.535596               bar\n8     1.712379          pluribus\n9     1.273037      sugarpercent\n10    1.819847      pricepercent\n11   13.847342              bias\n"
     ]
    }
   ],
   "source": [
    "from statsmodels.stats.outliers_influence import variance_inflation_factor\n",
    "vif = pd.DataFrame()\n",
    "vif[\"VIF Factor\"] = [variance_inflation_factor(x.values, i) for i in range(x.shape[1])]\n",
    "vif[\"features\"] = x.columns\n",
    "print vif"
   ]
  },
  {
   "cell_type": "code",
   "execution_count": 46,
   "metadata": {},
   "outputs": [
    {
     "data": {
      "text/plain": [
       "0.0212439437558292"
      ]
     },
     "execution_count": 46,
     "metadata": {},
     "output_type": "execute_result"
    }
   ],
   "source": [
    "# check determinant of covariance matrix\n",
    "np.linalg.det(corr)"
   ]
  },
  {
   "cell_type": "markdown",
   "metadata": {},
   "source": [
    "Though the Variance Inflation Factor (VIF) doesn't really tell us that there is a too strong colinearity in our dataset, the determinant of the correlation matrix is close to zero, which implies that there is probably some kind of linear dependency in the dataset.   \n",
    "-> try different regression model, e.g. Shapley Regression\n",
    "\n",
    "With the current results I would give the recommendation for a candy which contains chocolate and is peanutalmondylike.\n"
   ]
  },
  {
   "cell_type": "markdown",
   "metadata": {},
   "source": [
    ""
   ]
  },
  {
   "cell_type": "code",
   "execution_count": null,
   "metadata": {},
   "outputs": [],
   "source": []
  }
 ],
 "metadata": {
  "kernelspec": {
   "display_name": "Python 2",
   "language": "python",
   "name": "python2"
  },
  "language_info": {
   "codemirror_mode": {
    "name": "ipython",
    "version": 2
   },
   "file_extension": ".py",
   "mimetype": "text/x-python",
   "name": "python",
   "nbconvert_exporter": "python",
   "pygments_lexer": "ipython2",
   "version": "2.7.6"
  }
 },
 "nbformat": 4,
 "nbformat_minor": 0
}
